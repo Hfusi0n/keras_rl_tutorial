{
 "cells": [
  {
   "cell_type": "markdown",
   "metadata": {},
   "source": [
    " <a href=\"https://colab.research.google.com/github/ypeleg/keras_rl_tutorial/blob/master/1.0.1%20-%20QLearning%20Baby%20Steps.ipynb\" target=\"_parent\"><img src=\"https://colab.research.google.com/assets/colab-badge.svg\" alt=\"Open In Colab\"/></a>"
   ]
  },
  {
   "cell_type": "markdown",
   "metadata": {},
   "source": [
    "------"
   ]
  },
  {
   "cell_type": "markdown",
   "metadata": {},
   "source": [
    "<div> \n",
    "    <center><strong><h5>Reinforcement Learning Tutorial!</h5></strong></center>\n",
    "    <center><strong><h2>1.0.1 - QLearning Baby Steps</h2></strong></center> \n",
    "<div>"
   ]
  },
  {
   "cell_type": "markdown",
   "metadata": {},
   "source": [
    "------"
   ]
  },
  {
   "cell_type": "markdown",
   "metadata": {},
   "source": [
    "\n",
    "<table>\n",
    "  <tr>\n",
    "    <td><img src=\"img/animation1.gif?raw=true\" width=\"400\"></td>\n",
    "  </tr>\n",
    "</table>"
   ]
  },
  {
   "cell_type": "markdown",
   "metadata": {},
   "source": [
    "<div> \n",
    "    <center><strong><h2> Wait. What did just happen? </h2></strong></center> \n",
    "<div>"
   ]
  },
  {
   "cell_type": "markdown",
   "metadata": {},
   "source": [
    "### Reinforcement Learning\n",
    "\n",
    "![Reinforcement Learning](https://raw.githubusercontent.com/ypeleg/keras_rl_tutorial/master/images/reinforcement.png \"Reinforcement Learning\")\n",
    "\n",
    "\n",
    "### Q-Learning Car\n",
    "\n",
    "\n",
    "Q-Learning works by building a table that provides a lookup table to determine which of several actions should be taken. As we move through a number of training episodes this table is refined."
   ]
  },
  {
   "cell_type": "markdown",
   "metadata": {},
   "source": [
    "In general, we would like to optimize the following:\n",
    "\n",
    "$y(s,a) = \\text{r} + \\gamma . \\underset{a'}{\\max} \\, Q_\\text{target}(s', a')$\n",
    "\n",
    "* $y(s,a)$ is the target Q-Value to train the online DQN for the state-action pair $(s, a)$.\n",
    "* $r$ is the reward actually collected after playing action $a$ in state $s$.\n",
    "* $\\gamma$ is the discount rate.\n",
    "* $s'$ is the state actually reached after played action $a$ in state $s$.\n",
    "* $a'$ is one of the possible actions in state $s'$.\n",
    "* $Q_\\text{target}(s', a')$ is the target DQN's estimate of the Q-Value of playing action $a'$ while in state $s'$.\n"
   ]
  },
  {
   "cell_type": "markdown",
   "metadata": {},
   "source": [
    "$ Q^{new}(s_{t},a_{t}) \\leftarrow (1-\\alpha) \\cdot \\underbrace{Q(s_{t},a_{t})}_{\\text{old value}} + \\underbrace{\\alpha}_{\\text{learning rate}} \\cdot  \\overbrace{\\bigg( \\underbrace{r_{t}}_{\\text{reward}} + \\underbrace{\\gamma}_{\\text{discount factor}} \\cdot \\underbrace{\\max_{a}Q(s_{t+1}, a)}_{\\text{estimate of optimal future value}} \\bigg) }^{\\text{learned value}} $"
   ]
  },
  {
   "cell_type": "markdown",
   "metadata": {},
   "source": [
    "### Installations & Imports"
   ]
  },
  {
   "cell_type": "code",
   "execution_count": null,
   "metadata": {},
   "outputs": [],
   "source": [
    "!pip install pygame\n",
    "import os \n",
    "os.chdir('/content')\n",
    "os.listdir('.')\n",
    "if not os.path.exists('keras_rl_tutorial'): os.system('git clone https://github.com/ypeleg/keras_rl_tutorial/')\n",
    "os.chdir('keras_rl_tutorial')\n",
    "os.environ['SDL_VIDEODRIVER']='dummy'\n",
    "import pygame.transform\n",
    "import pygame.display\n",
    "pygame.display.init()\n",
    "import sys \n",
    "import keras\n",
    "import pygame \n",
    "import matplotlib.pyplot as plt\n",
    "%matplotlib inline\n",
    "import matplotlib\n",
    "import pylab\n",
    "import sys\n",
    "sys.path.append(\"game/\")\n",
    "import random\n",
    "import numpy as np\n",
    "from collections import deque\n",
    "from game import wrapped_flappy_bird as game\n",
    "from keras.models import Model\n",
    "from keras.models import Sequential\n",
    "from keras.optimizers import SGD , Adam\n",
    "from keras.layers.convolutional import Convolution2D, MaxPooling2D\n",
    "from keras.layers import Dense, Dropout, Activation, Flatten, Input\n",
    "# These are for the Live Demo on stage\n",
    "vstack = np.vstack\n",
    "argmax = np.argmax\n",
    "append = lambda x, y: np.append(x, y, axis=3)"
   ]
  },
  {
   "cell_type": "markdown",
   "metadata": {},
   "source": [
    "### Installations "
   ]
  },
  {
   "cell_type": "code",
   "execution_count": null,
   "metadata": {},
   "outputs": [],
   "source": [
    "MODE = 'Train'\n",
    "GAMMA = 0.99\n",
    "BATCH = 32\n",
    "\n",
    "def build_model():\n",
    "    inp = Input(shape=(80, 80, 4))\n",
    "    X = Convolution2D(32, (8, 8), subsample=(4, 4), border_mode='same')(inp)\n",
    "    X = Activation('relu')(X)\n",
    "    X = Convolution2D(64, (4, 4), subsample=(2, 2), border_mode='same')(X)\n",
    "    X = Activation('relu')(X)\n",
    "    X = Convolution2D(64, (3, 3), subsample=(1, 1), border_mode='same')(X)\n",
    "    X = Activation('relu')(X)\n",
    "    X = Flatten()(X)\n",
    "    X = Dense(512)(X)\n",
    "    X = Activation('relu')(X)\n",
    "    X = Dense(2)(X)\n",
    "    model = Model(inputs=inp, outputs=X)\n",
    "    model.summary()\n",
    "    model.compile(loss='mse', optimizer=Adam(lr=1e-4))\n",
    "    return model\n",
    "\n",
    "def init_flappybird():\n",
    "    env = game.GameState()\n",
    "    x_t, r_0, terminal = env.step(0)\n",
    "    x_t = x_t.reshape(x_t.shape[1], x_t.shape[2])\n",
    "    s_t = np.stack((x_t, x_t, x_t, x_t), axis=2)\n",
    "    s_t = s_t.reshape(1, s_t.shape[0], s_t.shape[1], s_t.shape[2])\n",
    "    return env, s_t"
   ]
  },
  {
   "cell_type": "markdown",
   "metadata": {},
   "source": [
    "### Simple DQN For flappy bird "
   ]
  },
  {
   "cell_type": "code",
   "execution_count": 3,
   "metadata": {},
   "outputs": [
    {
     "name": "stdout",
     "output_type": "stream",
     "text": [
      "Epoch 1/1\n",
      "\r",
      "32/32 [==============================] - 0s 3ms/step - loss: 2626.2524\n"
     ]
    },
    {
     "data": {
      "image/png": "[encoded data removed]",
      "text/plain": [
       "<matplotlib.figure.Figure at 0x7fed547d6b10>"
      ]
     },
     "metadata": {
      "needs_background": "light"
     },
     "output_type": "display_data"
    }
   ],
   "source": [
    "# Actual Algorithm Goes here:\n",
    "\n",
    "env, s_t = init_flappybird()\n",
    "model = build_model()\n",
    "D = deque()\n",
    "epsilon = 0.1\n",
    "\n",
    "for i in range(34):\n",
    "    if random.random() <= epsilon: a_t = random.randint(0, 1)\n",
    "    else: a_t = argmax(model.predict(s_t))\n",
    "    epsilon -= 3.33e-08\n",
    "    x_t1, r_t, done = env.step(a_t)\n",
    "    s_t1 = append(x_t1, s_t[:, :, :, :3])\n",
    "    D.append((s_t, a_t, r_t, s_t1, done))\n",
    "    if len(D) > BATCH:\n",
    "        X, y = [], []\n",
    "        for i in range(BATCH):\n",
    "            state_t, action_t, reward_t, state_t1, done = random.choice(D)\n",
    "            X.append(state_t)\n",
    "            y.append(model.predict(state_t)[0])\n",
    "            if not done: y[-1][action_t] = reward_t + GAMMA * np.max(model.predict(state_t1))\n",
    "            else: y[-1][action_t] = reward_t\n",
    "        model.fit(vstack(X), vstack(y), epochs=1)\n",
    "    s_t = s_t1"
   ]
  }
 ],
 "metadata": {
  "anaconda-cloud": {},
  "kernelspec": {
   "display_name": "Python 2",
   "language": "python",
   "name": "python2"
  },
  "language_info": {
   "codemirror_mode": {
    "name": "ipython",
    "version": 2
   },
   "file_extension": ".py",
   "mimetype": "text/x-python",
   "name": "python",
   "nbconvert_exporter": "python",
   "pygments_lexer": "ipython2",
   "version": "2.7.16"
  }
 },
 "nbformat": 4,
 "nbformat_minor": 4
}
